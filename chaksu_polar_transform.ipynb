{
 "cells": [
  {
   "cell_type": "code",
   "execution_count": 1,
   "id": "initial_id",
   "metadata": {
    "collapsed": true,
    "ExecuteTime": {
     "end_time": "2024-08-04T08:05:12.197207Z",
     "start_time": "2024-08-04T08:05:05.494611Z"
    }
   },
   "outputs": [
    {
     "name": "stderr",
     "output_type": "stream",
     "text": [
      "C:\\Users\\michi\\Documents\\Uni\\_Master\\_Thesis\\project\\venv\\lib\\site-packages\\ignite\\handlers\\checkpoint.py:17: DeprecationWarning: `TorchScript` support for functional optimizers is deprecated and will be removed in a future PyTorch release. Consider using the `torch.compile` optimizer instead.\n",
      "  from torch.distributed.optim import ZeroRedundancyOptimizer\n"
     ]
    }
   ],
   "source": [
    "import os\n",
    "import numpy as np\n",
    "import pickle\n",
    "from PIL import Image\n",
    "from tqdm.auto import tqdm\n",
    "import matplotlib.pyplot as plt\n",
    "\n",
    "from monai.transforms import EnsureChannelFirst, LoadImage, Compose, ScaleIntensity\n",
    "from monai.data import ArrayDataset\n",
    "from torch.utils.data import DataLoader\n",
    "\n",
    "import polarTransform"
   ]
  },
  {
   "cell_type": "code",
   "outputs": [],
   "source": [
    "transformer = Compose([LoadImage(image_only=True),\n",
    "                       EnsureChannelFirst(),\n",
    "                       ScaleIntensity()])\n",
    "\n",
    "image_path = \"data_chaksu/CHAKSU/Images/\"\n",
    "dm_path = \"data_chaksu/CHAKSU/Disc_Masks/\"\n",
    "\n",
    "data = ArrayDataset(img=sorted([image_path + file for file in os.listdir(image_path)]),\n",
    "                    img_transform=transformer,\n",
    "                    seg=sorted([dm_path + file for file in os.listdir(dm_path)]),\n",
    "                    seg_transform=transformer)\n",
    "\n",
    "dataloader = DataLoader(data,\n",
    "                        batch_size=1,\n",
    "                        shuffle=False,\n",
    "                        num_workers=2)\n"
   ],
   "metadata": {
    "collapsed": false,
    "ExecuteTime": {
     "end_time": "2024-08-04T08:05:12.213222Z",
     "start_time": "2024-08-04T08:05:12.198208Z"
    }
   },
   "id": "d9b3578cbae2be74",
   "execution_count": 2
  },
  {
   "cell_type": "code",
   "outputs": [
    {
     "data": {
      "text/plain": "0it [00:00, ?it/s]",
      "application/vnd.jupyter.widget-view+json": {
       "version_major": 2,
       "version_minor": 0,
       "model_id": "67b10632ea894371a8b1d9e748a160ff"
      }
     },
     "metadata": {},
     "output_type": "display_data"
    }
   ],
   "source": [
    "new_path = \"data_chaksu_polar/CHAKSU/\"\n",
    "old_path = \"data_chaksu/CHAKSU/\"\n",
    "names = sorted(os.listdir(old_path + \"Images/\"))\n",
    "\n",
    "if not os.path.exists(new_path + \"Disc_Masks\"):\n",
    "    os.makedirs(new_path + \"Disc_Masks\")\n",
    "\n",
    "if not os.path.exists(new_path + \"Images\"):\n",
    "    os.makedirs(new_path + \"Images\")\n",
    "\n",
    "settings_dict = {}\n",
    "\n",
    "for j, batch in tqdm(enumerate(dataloader)):\n",
    "    image = np.array(255 * batch[0][0].permute(1, 2, 0)).astype(np.uint8)\n",
    "    mask = np.array(255 * batch[1][0].permute(1, 2, 0)).astype(np.uint8)\n",
    "    cup_points = np.where(mask[:, :, 1] == 255)\n",
    "    center = (round(cup_points[1].mean()), round(cup_points[0].mean()))\n",
    "    transformed_mask, settings = polarTransform.convertToPolarImage(mask,\n",
    "                                                                    center=center,\n",
    "                                                                    hasColor=True,\n",
    "                                                                    radiusSize=mask.shape[0],\n",
    "                                                                    angleSize=mask.shape[1])\n",
    "    \n",
    "    transformed_mask = transformed_mask.astype(np.uint8)\n",
    "    new_mask = Image.fromarray(transformed_mask)\n",
    "    new_mask.save(new_path + \"Disc_Masks/\" + names[j])\n",
    "\n",
    "    transformed_image = settings.convertToPolarImage(image)\n",
    "    new_image = Image.fromarray(transformed_image)\n",
    "    new_image.save(new_path + \"Images/\" + names[j])\n",
    "\n",
    "    settings_dict[names[j]] = settings\n",
    "    "
   ],
   "metadata": {
    "collapsed": false,
    "ExecuteTime": {
     "end_time": "2024-08-04T08:10:28.833532Z",
     "start_time": "2024-08-04T08:05:12.214223Z"
    }
   },
   "id": "494f70a7167f65f0",
   "execution_count": 3
  },
  {
   "cell_type": "code",
   "outputs": [],
   "source": [
    "with open(new_path + \"settings.pickle\", \"wb\") as handle:\n",
    "    pickle.dump(settings_dict, handle, protocol=pickle.HIGHEST_PROTOCOL)"
   ],
   "metadata": {
    "collapsed": false,
    "ExecuteTime": {
     "end_time": "2024-08-04T08:10:28.865561Z",
     "start_time": "2024-08-04T08:10:28.834533Z"
    }
   },
   "id": "d7fb0a67b7eaf331",
   "execution_count": 4
  }
 ],
 "metadata": {
  "kernelspec": {
   "display_name": "Python 3",
   "language": "python",
   "name": "python3"
  },
  "language_info": {
   "codemirror_mode": {
    "name": "ipython",
    "version": 2
   },
   "file_extension": ".py",
   "mimetype": "text/x-python",
   "name": "python",
   "nbconvert_exporter": "python",
   "pygments_lexer": "ipython2",
   "version": "2.7.6"
  }
 },
 "nbformat": 4,
 "nbformat_minor": 5
}
