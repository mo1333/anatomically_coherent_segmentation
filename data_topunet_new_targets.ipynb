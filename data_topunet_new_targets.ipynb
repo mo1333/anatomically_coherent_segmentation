{
 "cells": [
  {
   "cell_type": "code",
   "execution_count": 1,
   "id": "initial_id",
   "metadata": {
    "collapsed": true,
    "ExecuteTime": {
     "end_time": "2024-07-26T13:19:13.372550Z",
     "start_time": "2024-07-26T13:19:07.403126Z"
    }
   },
   "outputs": [
    {
     "name": "stderr",
     "output_type": "stream",
     "text": [
      "C:\\Users\\michi\\Documents\\Uni\\_Master\\_Thesis\\project\\venv\\lib\\site-packages\\ignite\\handlers\\checkpoint.py:17: DeprecationWarning: `TorchScript` support for functional optimizers is deprecated and will be removed in a future PyTorch release. Consider using the `torch.compile` optimizer instead.\n",
      "  from torch.distributed.optim import ZeroRedundancyOptimizer\n"
     ]
    }
   ],
   "source": [
    "import glob\n",
    "import os\n",
    "import numpy as np\n",
    "from PIL import Image\n",
    "from tqdm.auto import tqdm\n",
    "\n",
    "from monai.transforms import Resize, EnsureChannelFirst, LoadImage, Compose, ScaleIntensity\n",
    "from monai.data import ArrayDataset\n",
    "from torch.utils.data import DataLoader\n",
    "import matplotlib.pyplot as plt\n"
   ]
  },
  {
   "cell_type": "code",
   "outputs": [],
   "source": [
    "transformer = Compose([LoadImage(image_only=True),\n",
    "                       EnsureChannelFirst(),\n",
    "                       ScaleIntensity()])\n",
    "\n",
    "train_image_path = \"data_polar/REFUGE2/Train/Images/\"\n",
    "train_dm_path = \"data_polar/REFUGE2/Train/Disc_Masks/\"\n",
    "test_image_path = \"data_polar/REFUGE2/Test/Images/\"\n",
    "test_dm_path = \"data_polar/REFUGE2/Test/Disc_Masks/\"\n",
    "val_image_path = \"data_polar/REFUGE2/Validation/Images/\"\n",
    "val_dm_path = \"data_polar/REFUGE2/Validation/Disc_Masks/\"\n",
    "\n",
    "train_data = ArrayDataset(img=sorted([train_image_path + file for file in os.listdir(train_image_path)]),\n",
    "                          img_transform=transformer,\n",
    "                          seg=sorted([train_dm_path + file for file in os.listdir(train_dm_path)]),\n",
    "                          seg_transform=transformer)\n",
    "\n",
    "train_dataloader = DataLoader(train_data,\n",
    "                              batch_size=1,\n",
    "                              shuffle=False,\n",
    "                              num_workers=2)\n",
    "\n",
    "val_data = ArrayDataset(img=sorted([val_image_path + file for file in os.listdir(val_image_path)]),\n",
    "                        img_transform=transformer,\n",
    "                        seg=sorted([val_dm_path + file for file in os.listdir(val_dm_path)]),\n",
    "                        seg_transform=transformer)\n",
    "\n",
    "val_dataloader = DataLoader(val_data,\n",
    "                            batch_size=1,\n",
    "                            shuffle=False,\n",
    "                            num_workers=2)\n",
    "\n",
    "test_data = ArrayDataset(img=sorted([test_image_path + file for file in os.listdir(test_image_path)]),\n",
    "                         img_transform=transformer,\n",
    "                         seg=sorted([test_dm_path + file for file in os.listdir(test_dm_path)]),\n",
    "                         seg_transform=transformer)\n",
    "\n",
    "test_dataloader = DataLoader(test_data,\n",
    "                             batch_size=1,\n",
    "                             shuffle=False,\n",
    "                             num_workers=2)"
   ],
   "metadata": {
    "collapsed": false,
    "ExecuteTime": {
     "end_time": "2024-07-26T13:19:13.436609Z",
     "start_time": "2024-07-26T13:19:13.373552Z"
    }
   },
   "id": "65dca863901c9b4c",
   "execution_count": 2
  },
  {
   "cell_type": "code",
   "outputs": [
    {
     "data": {
      "text/plain": "0it [00:00, ?it/s]",
      "application/vnd.jupyter.widget-view+json": {
       "version_major": 2,
       "version_minor": 0,
       "model_id": "2715430b59a84b86bfd9a06403e9f847"
      }
     },
     "metadata": {},
     "output_type": "display_data"
    },
    {
     "data": {
      "text/plain": "<Figure size 640x480 with 1 Axes>",
      "image/png": "[encoded data removed]"
     },
     "metadata": {},
     "output_type": "display_data"
    }
   ],
   "source": [
    "new_path = \"data_topunet/REFUGE2/Train/\"\n",
    "old_path = \"data_polar/REFUGE2/Train/\"\n",
    "names = sorted(os.listdir(old_path + \"Images/\"))\n",
    "\n",
    "if not os.path.exists(new_path + \"q_Masks\"):\n",
    "    os.makedirs(new_path + \"q_Masks\")\n",
    "    \n",
    "if not os.path.exists(new_path + \"s_Masks\"):\n",
    "    os.makedirs(new_path + \"s_Masks\")\n",
    "\n",
    "\n",
    "for j, batch in tqdm(enumerate(train_dataloader)):\n",
    "    mask = (np.array(255*batch[1][0].permute(2, 1, 0)).astype(np.uint8) > 127).astype(np.uint8)\n",
    "    diff = np.diff(mask, axis=1)\n",
    "    diff[:, :, 0] = 0\n",
    "    \n",
    "    # q_image = Image.fromarray(diff)\n",
    "    # q_image.save(new_path + \"q_Masks/\" + names[j])\n",
    "    indices_cup = np.argmax(diff[:, :, 1], axis=1)\n",
    "    indices_disc = np.argmax(diff[:, :, 2], axis=1)\n",
    "    output = np.vstack([indices_cup[1], indices_disc[1]])\n",
    "    np.save(new_path + \"s_Masks/\" + names[j][:-3] + \"npy\", output)\n",
    "    \n",
    "    q_image = np.zeros(shape=mask.shape).astype(np.uint8)\n",
    "    q_image[range(0, mask.shape[0]), list(indices_cup), 1] = 255\n",
    "    q_image[range(0, mask.shape[0]), list(indices_disc), 2] = 255\n",
    "    q_image = Image.fromarray(q_image)\n",
    "    plt.imshow(q_image)\n",
    "    q_image.save(new_path + \"q_Masks/\" + names[j])\n",
    "    "
   ],
   "metadata": {
    "collapsed": false,
    "ExecuteTime": {
     "end_time": "2024-07-26T13:40:36.346780Z",
     "start_time": "2024-07-26T13:39:14.116053Z"
    }
   },
   "id": "104962160efb6c4c",
   "execution_count": 12
  }
 ],
 "metadata": {
  "kernelspec": {
   "display_name": "Python 3",
   "language": "python",
   "name": "python3"
  },
  "language_info": {
   "codemirror_mode": {
    "name": "ipython",
    "version": 2
   },
   "file_extension": ".py",
   "mimetype": "text/x-python",
   "name": "python",
   "nbconvert_exporter": "python",
   "pygments_lexer": "ipython2",
   "version": "2.7.6"
  }
 },
 "nbformat": 4,
 "nbformat_minor": 5
}
