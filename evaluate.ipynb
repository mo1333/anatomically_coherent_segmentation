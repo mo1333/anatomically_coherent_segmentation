{
 "cells": [
  {
   "cell_type": "code",
   "execution_count": 1,
   "metadata": {
    "collapsed": true,
    "ExecuteTime": {
     "end_time": "2024-08-05T13:23:19.387170Z",
     "start_time": "2024-08-05T13:22:49.708836Z"
    }
   },
   "outputs": [
    {
     "name": "stderr",
     "output_type": "stream",
     "text": [
      "C:\\Users\\michi\\Documents\\Uni\\_Master\\_Thesis\\project\\venv\\lib\\site-packages\\ignite\\handlers\\checkpoint.py:17: DeprecationWarning: `TorchScript` support for functional optimizers is deprecated and will be removed in a future PyTorch release. Consider using the `torch.compile` optimizer instead.\n",
      "  from torch.distributed.optim import ZeroRedundancyOptimizer\n"
     ]
    }
   ],
   "source": [
    "import json\n",
    "import os\n",
    "import pickle\n",
    "\n",
    "import numpy as np\n",
    "import matplotlib.pyplot as plt\n",
    "import matplotlib.patches as mpatches\n",
    "\n",
    "\n",
    "from evaluate_util import get_model, plot_model_output\n",
    "%load_ext autoreload\n",
    "%autoreload 2"
   ]
  },
  {
   "cell_type": "code",
   "execution_count": 2,
   "outputs": [],
   "source": [
    "experiments_of_interest = [\"2024_08_05__15_10_51_eval_test\"]\n",
    "experiments_labels = [\"baseline\", \"topunet\", \"topological loss, very narrow\"]\n",
    "experiments_colors = [(\"b\", \"cornflowerblue\"), (\"green\", \"limegreen\"), (\"orangered\", \"coral\")]\n",
    "exp_paths = [\"experiments/\" + name for name in experiments_of_interest]"
   ],
   "metadata": {
    "collapsed": false,
    "ExecuteTime": {
     "end_time": "2024-08-05T13:23:19.577335Z",
     "start_time": "2024-08-05T13:23:19.388170Z"
    }
   }
  },
  {
   "cell_type": "code",
   "execution_count": 3,
   "outputs": [],
   "source": [
    "# patches = []\n",
    "# labels = []\n",
    "# width = 0.1\n",
    "# shift_factor = width*1.1\n",
    "# \n",
    "# fig = plt.figure()\n",
    "# ax = fig.add_subplot()\n",
    "# \n",
    "# for i in range(len(experiments_of_interest)):\n",
    "#     with open(exp_paths[i] + \"/diameters.pickle\", \"rb\") as handle:\n",
    "#         diameters = pickle.load(handle)\n",
    "# \n",
    "#     cdr_label = [diameters[\"label\"][0][i] / diameters[\"label\"][1][i] for i in range(len(diameters[\"label\"][0]))]\n",
    "#     cdr_pred = [diameters[\"pred\"][0][i] / diameters[\"pred\"][1][i] for i in range(len(diameters[\"label\"][0]))]\n",
    "#     data = [abs(cdr_pred[i] - cdr_label[i]) for i in range(len(cdr_pred))]\n",
    "#     violin = ax.violinplot(data,\n",
    "#                             positions = [0 + shift_factor*i],\n",
    "#                             widths=width,\n",
    "#                             showmeans=True,\n",
    "#                             side=\"high\")\n",
    "# \n",
    "#     for pc in violin['bodies']:\n",
    "#         pc.set_facecolor(experiments_colors[i][0])\n",
    "#         pc.set_edgecolor(experiments_colors[i][0])\n",
    "#     for partname in ('cbars','cmins','cmaxes'):\n",
    "#         vp = violin[partname]\n",
    "#         vp.set_edgecolor(experiments_colors[i][0])\n",
    "#     patches.append(mpatches.Patch(color=experiments_colors[i][0]))\n",
    "#     labels.append(experiments_labels[i])\n",
    "# \n",
    "# ax.set_xticks([0], [\"\"])\n",
    "# plt.ylabel(\"MAE of vCDRs\")\n",
    "# plt.legend(patches, labels, loc=8) # loc 4 ... lower center\n",
    "# plt.show()"
   ],
   "metadata": {
    "collapsed": false,
    "ExecuteTime": {
     "end_time": "2024-08-05T13:23:19.769509Z",
     "start_time": "2024-08-05T13:23:19.578336Z"
    }
   }
  },
  {
   "cell_type": "code",
   "execution_count": 6,
   "outputs": [
    {
     "name": "stderr",
     "output_type": "stream",
     "text": [
      "C:\\Users\\michi\\Documents\\Uni\\_Master\\_Thesis\\project\\venv\\lib\\site-packages\\torch\\storage.py:414: FutureWarning: You are using `torch.load` with `weights_only=False` (the current default value), which uses the default pickle module implicitly. It is possible to construct malicious pickle data which will execute arbitrary code during unpickling (See https://github.com/pytorch/pytorch/blob/main/SECURITY.md#untrusted-models for more details). In a future release, the default value for `weights_only` will be flipped to `True`. This limits the functions that could be executed during unpickling. Arbitrary objects will no longer be allowed to be loaded via this mode unless they are explicitly allowlisted by the user via `torch.serialization.add_safe_globals`. We recommend you start setting `weights_only=True` for any use case where you don't have full control of the loaded file. Please open an issue on GitHub for any issues related to this experimental feature.\n",
      "  return torch.load(io.BytesIO(b))\n"
     ]
    },
    {
     "data": {
      "text/plain": "<Figure size 640x480 with 1 Axes>",
      "image/png": "[encoded data removed]"
     },
     "metadata": {},
     "output_type": "display_data"
    }
   ],
   "source": [
    "patches = []\n",
    "labels = []\n",
    "width = 0.1\n",
    "shift_factor = width*1.1\n",
    "\n",
    "fig = plt.figure()\n",
    "ax = fig.add_subplot()\n",
    "\n",
    "for i in range(len(experiments_of_interest)):\n",
    "    with open(exp_paths[i] + \"/chaksu_dice.pickle\", \"rb\") as handle:\n",
    "        data = pickle.load(handle)\n",
    "    violin = ax.violinplot(data[1],\n",
    "                            positions = [0 + shift_factor*i],\n",
    "                            widths=width,\n",
    "                            showmeans=True,\n",
    "                            side=\"high\")\n",
    "\n",
    "    for pc in violin['bodies']:\n",
    "        pc.set_facecolor(experiments_colors[i][0])\n",
    "        pc.set_edgecolor(experiments_colors[i][0])\n",
    "    for partname in ('cbars','cmins','cmaxes'):\n",
    "        vp = violin[partname]\n",
    "        vp.set_edgecolor(experiments_colors[i][0])\n",
    "    patches.append(mpatches.Patch(color=experiments_colors[i][0]))\n",
    "    labels.append(experiments_labels[i] + \", disc\")\n",
    "\n",
    "    violin = ax.violinplot(data[0],\n",
    "                            positions = [1 + i*shift_factor],\n",
    "                            widths=width,\n",
    "                            showmeans=True,\n",
    "                            side=\"high\")\n",
    "    for pc in violin['bodies']:\n",
    "        pc.set_facecolor(experiments_colors[i][1])\n",
    "        pc.set_edgecolor(experiments_colors[i][1])\n",
    "    for partname in ('cbars','cmins','cmaxes'):\n",
    "        vp = violin[partname]\n",
    "        vp.set_edgecolor(experiments_colors[i][1])\n",
    "    patches.append(mpatches.Patch(color=experiments_colors[i][1]))\n",
    "    labels.append(experiments_labels[i] + \", cup\")\n",
    "ax.set_xticks([0, 1], [\"disc\", \"cup\"])\n",
    "plt.ylabel(\"dice score\")\n",
    "plt.legend(patches, labels, loc=8) # loc 4 ... lower center\n",
    "plt.show()"
   ],
   "metadata": {
    "collapsed": false,
    "ExecuteTime": {
     "end_time": "2024-08-05T13:24:10.055760Z",
     "start_time": "2024-08-05T13:24:09.430687Z"
    }
   }
  }
 ],
 "metadata": {
  "kernelspec": {
   "display_name": "Python 3",
   "language": "python",
   "name": "python3"
  },
  "language_info": {
   "codemirror_mode": {
    "name": "ipython",
    "version": 2
   },
   "file_extension": ".py",
   "mimetype": "text/x-python",
   "name": "python",
   "nbconvert_exporter": "python",
   "pygments_lexer": "ipython2",
   "version": "2.7.6"
  }
 },
 "nbformat": 4,
 "nbformat_minor": 0
}
