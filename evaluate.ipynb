{
 "cells": [
  {
   "cell_type": "code",
   "execution_count": 5,
   "metadata": {
    "collapsed": true,
    "ExecuteTime": {
     "end_time": "2024-07-27T10:17:17.488746Z",
     "start_time": "2024-07-27T10:17:17.292576Z"
    }
   },
   "outputs": [
    {
     "name": "stdout",
     "output_type": "stream",
     "text": [
      "The autoreload extension is already loaded. To reload it, use:\n",
      "  %reload_ext autoreload\n"
     ]
    }
   ],
   "source": [
    "import json\n",
    "import os\n",
    "import pickle\n",
    "\n",
    "import numpy as np\n",
    "import matplotlib.pyplot as plt\n",
    "import matplotlib.patches as mpatches\n",
    "\n",
    "\n",
    "from evaluate_util import get_model, plot_model_output\n",
    "%load_ext autoreload\n",
    "%autoreload 2"
   ]
  },
  {
   "cell_type": "code",
   "execution_count": 9,
   "outputs": [],
   "source": [
    "experiments_of_interest = [\"2024_07_27__10_39_50_topunet_eval_finalTest\"]\n",
    "experiments_labels = [\"baseline\", \"topunet\", \"topological loss, very narrow\"]\n",
    "experiments_colors = [(\"b\", \"cornflowerblue\"), (\"green\", \"limegreen\"), (\"orangered\", \"coral\")]\n",
    "exp_paths = [\"experiments/\" + name for name in experiments_of_interest]"
   ],
   "metadata": {
    "collapsed": false,
    "ExecuteTime": {
     "end_time": "2024-07-27T10:21:50.363967Z",
     "start_time": "2024-07-27T10:21:50.170791Z"
    }
   }
  },
  {
   "cell_type": "code",
   "execution_count": 7,
   "outputs": [],
   "source": [
    "# patches = []\n",
    "# labels = []\n",
    "# width = 0.1\n",
    "# shift_factor = width*1.1\n",
    "# \n",
    "# fig = plt.figure()\n",
    "# ax = fig.add_subplot()\n",
    "# \n",
    "# for i in range(len(experiments_of_interest)):\n",
    "#     with open(exp_paths[i] + \"/diameters.pickle\", \"rb\") as handle:\n",
    "#         diameters = pickle.load(handle)\n",
    "# \n",
    "#     cdr_label = [diameters[\"label\"][0][i] / diameters[\"label\"][1][i] for i in range(len(diameters[\"label\"][0]))]\n",
    "#     cdr_pred = [diameters[\"pred\"][0][i] / diameters[\"pred\"][1][i] for i in range(len(diameters[\"label\"][0]))]\n",
    "#     data = [abs(cdr_pred[i] - cdr_label[i]) for i in range(len(cdr_pred))]\n",
    "#     violin = ax.violinplot(data,\n",
    "#                             positions = [0 + shift_factor*i],\n",
    "#                             widths=width,\n",
    "#                             showmeans=True,\n",
    "#                             side=\"high\")\n",
    "# \n",
    "#     for pc in violin['bodies']:\n",
    "#         pc.set_facecolor(experiments_colors[i][0])\n",
    "#         pc.set_edgecolor(experiments_colors[i][0])\n",
    "#     for partname in ('cbars','cmins','cmaxes'):\n",
    "#         vp = violin[partname]\n",
    "#         vp.set_edgecolor(experiments_colors[i][0])\n",
    "#     patches.append(mpatches.Patch(color=experiments_colors[i][0]))\n",
    "#     labels.append(experiments_labels[i])\n",
    "# \n",
    "# ax.set_xticks([0], [\"\"])\n",
    "# plt.ylabel(\"MAE of vCDRs\")\n",
    "# plt.legend(patches, labels, loc=8) # loc 4 ... lower center\n",
    "# plt.show()"
   ],
   "metadata": {
    "collapsed": false,
    "ExecuteTime": {
     "end_time": "2024-07-27T10:17:17.873095Z",
     "start_time": "2024-07-27T10:17:17.681922Z"
    }
   }
  },
  {
   "cell_type": "code",
   "execution_count": 11,
   "outputs": [
    {
     "name": "stderr",
     "output_type": "stream",
     "text": [
      "C:\\Users\\michi\\Documents\\Uni\\_Master\\_Thesis\\project\\venv\\lib\\site-packages\\torch\\storage.py:414: FutureWarning: You are using `torch.load` with `weights_only=False` (the current default value), which uses the default pickle module implicitly. It is possible to construct malicious pickle data which will execute arbitrary code during unpickling (See https://github.com/pytorch/pytorch/blob/main/SECURITY.md#untrusted-models for more details). In a future release, the default value for `weights_only` will be flipped to `True`. This limits the functions that could be executed during unpickling. Arbitrary objects will no longer be allowed to be loaded via this mode unless they are explicitly allowlisted by the user via `torch.serialization.add_safe_globals`. We recommend you start setting `weights_only=True` for any use case where you don't have full control of the loaded file. Please open an issue on GitHub for any issues related to this experimental feature.\n",
      "  return torch.load(io.BytesIO(b))\n"
     ]
    },
    {
     "name": "stdout",
     "output_type": "stream",
     "text": [
      "[[metatensor(0.0243), metatensor(0.0024), metatensor(0.), metatensor(0.), metatensor(0.0140), metatensor(0.0033), metatensor(0.), metatensor(0.), metatensor(0.), metatensor(0.), metatensor(0.0072), metatensor(0.), metatensor(0.), metatensor(0.), metatensor(0.0067), metatensor(0.), metatensor(0.0300), metatensor(0.0154), metatensor(0.), metatensor(0.), metatensor(0.), metatensor(0.), metatensor(0.0024), metatensor(0.), metatensor(0.), metatensor(0.), metatensor(0.), metatensor(0.), metatensor(0.0037), metatensor(0.), metatensor(0.), metatensor(0.), metatensor(0.), metatensor(0.), metatensor(0.), metatensor(0.0058), metatensor(0.), metatensor(0.), metatensor(0.), metatensor(0.), metatensor(0.), metatensor(0.), metatensor(0.), metatensor(0.), metatensor(0.), metatensor(0.), metatensor(0.0248), metatensor(0.), metatensor(0.0021), metatensor(0.), metatensor(0.0043), metatensor(0.), metatensor(0.0084), metatensor(0.), metatensor(0.), metatensor(0.), metatensor(0.), metatensor(0.0063), metatensor(0.0255), metatensor(0.), metatensor(0.), metatensor(0.), metatensor(0.0114), metatensor(0.0072), metatensor(0.0034), metatensor(0.), metatensor(0.), metatensor(0.), metatensor(0.0164), metatensor(0.), metatensor(0.), metatensor(0.), metatensor(0.), metatensor(0.), metatensor(0.), metatensor(0.), metatensor(0.), metatensor(0.0009), metatensor(0.), metatensor(0.), metatensor(0.), metatensor(0.), metatensor(0.), metatensor(0.0090), metatensor(0.0019), metatensor(0.), metatensor(0.), metatensor(0.), metatensor(0.), metatensor(0.), metatensor(0.0020), metatensor(0.0027), metatensor(0.), metatensor(0.), metatensor(0.), metatensor(0.), metatensor(0.), metatensor(0.0151), metatensor(0.), metatensor(0.), metatensor(0.), metatensor(0.), metatensor(0.), metatensor(0.), metatensor(0.), metatensor(0.), metatensor(0.), metatensor(0.0020), metatensor(0.), metatensor(0.0036), metatensor(0.), metatensor(0.), metatensor(0.), metatensor(0.), metatensor(0.), metatensor(0.0008), metatensor(0.), metatensor(0.), metatensor(0.), metatensor(0.), metatensor(0.), metatensor(0.), metatensor(0.), metatensor(0.0137), metatensor(0.), metatensor(0.), metatensor(0.), metatensor(0.0042), metatensor(0.), metatensor(0.), metatensor(0.0170), metatensor(0.), metatensor(0.), metatensor(0.), metatensor(0.), metatensor(0.0136), metatensor(0.), metatensor(0.), metatensor(0.), metatensor(0.0045), metatensor(0.0240), metatensor(0.), metatensor(0.), metatensor(0.), metatensor(0.), metatensor(0.), metatensor(0.), metatensor(0.), metatensor(0.0049), metatensor(0.), metatensor(0.), metatensor(0.), metatensor(0.), metatensor(0.), metatensor(0.), metatensor(0.), metatensor(0.), metatensor(0.), metatensor(0.), metatensor(0.), metatensor(0.), metatensor(0.), metatensor(0.0129), metatensor(0.), metatensor(0.), metatensor(0.), metatensor(0.), metatensor(0.), metatensor(0.), metatensor(0.), metatensor(0.), metatensor(0.0016), metatensor(0.0120), metatensor(0.), metatensor(0.), metatensor(0.), metatensor(0.0012), metatensor(0.), metatensor(0.), metatensor(0.), metatensor(0.0027), metatensor(0.), metatensor(0.), metatensor(0.), metatensor(0.), metatensor(0.), metatensor(0.0036), metatensor(0.), metatensor(0.0012), metatensor(0.), metatensor(0.), metatensor(0.), metatensor(0.), metatensor(0.), metatensor(0.), metatensor(0.), metatensor(0.), metatensor(0.), metatensor(0.0168), metatensor(0.), metatensor(0.0201), metatensor(0.), metatensor(0.0021), metatensor(0.), metatensor(0.), metatensor(0.), metatensor(0.), metatensor(0.), metatensor(0.), metatensor(0.), metatensor(0.), metatensor(0.), metatensor(0.), metatensor(0.0100), metatensor(0.), metatensor(0.), metatensor(0.), metatensor(0.), metatensor(0.), metatensor(0.), metatensor(0.0189), metatensor(0.), metatensor(0.), metatensor(0.0216), metatensor(0.), metatensor(0.), metatensor(0.0014), metatensor(0.), metatensor(0.), metatensor(0.), metatensor(0.), metatensor(0.), metatensor(0.), metatensor(0.), metatensor(0.), metatensor(0.), metatensor(0.), metatensor(0.), metatensor(0.), metatensor(0.), metatensor(0.0023), metatensor(0.), metatensor(0.), metatensor(0.), metatensor(0.0028), metatensor(0.), metatensor(0.), metatensor(0.), metatensor(0.), metatensor(0.), metatensor(0.0009), metatensor(0.), metatensor(0.), metatensor(0.), metatensor(0.), metatensor(0.), metatensor(0.), metatensor(0.), metatensor(0.), metatensor(0.), metatensor(0.), metatensor(0.), metatensor(0.), metatensor(0.), metatensor(0.), metatensor(0.0081), metatensor(0.0407), metatensor(0.0033), metatensor(0.), metatensor(0.), metatensor(0.), metatensor(0.0013), metatensor(0.0056), metatensor(0.), metatensor(0.0021), metatensor(0.), metatensor(0.), metatensor(0.0019), metatensor(0.), metatensor(0.), metatensor(0.), metatensor(0.), metatensor(0.), metatensor(0.), metatensor(0.), metatensor(0.), metatensor(0.0020), metatensor(0.), metatensor(0.), metatensor(0.0061), metatensor(0.), metatensor(0.0025), metatensor(0.), metatensor(0.), metatensor(0.), metatensor(0.0434), metatensor(0.), metatensor(0.), metatensor(0.0190), metatensor(0.0015), metatensor(0.0013), metatensor(0.), metatensor(0.0312), metatensor(0.0041), metatensor(0.0028), metatensor(0.0038), metatensor(0.0279), metatensor(0.0057), metatensor(0.0084), metatensor(0.0185), metatensor(0.0023), metatensor(0.0107), metatensor(0.), metatensor(0.0033), metatensor(0.), metatensor(0.), metatensor(0.0080), metatensor(0.0395), metatensor(0.), metatensor(0.0032), metatensor(0.), metatensor(0.), metatensor(0.), metatensor(0.0055), metatensor(0.0027), metatensor(0.), metatensor(0.0210), metatensor(0.), metatensor(0.), metatensor(0.0143), metatensor(0.), metatensor(0.), metatensor(0.), metatensor(0.), metatensor(0.), metatensor(0.), metatensor(0.), metatensor(0.), metatensor(0.), metatensor(0.), metatensor(0.), metatensor(0.), metatensor(0.), metatensor(0.), metatensor(0.), metatensor(0.0104), metatensor(0.), metatensor(0.0033), metatensor(0.0056), metatensor(0.), metatensor(0.), metatensor(0.), metatensor(0.0047), metatensor(0.0017), metatensor(0.0061), metatensor(0.0025), metatensor(0.0131), metatensor(0.), metatensor(0.0205), metatensor(0.0074), metatensor(0.0024), metatensor(0.), metatensor(0.), metatensor(0.), metatensor(0.), metatensor(0.0044), metatensor(0.), metatensor(0.), metatensor(0.), metatensor(0.), metatensor(0.), metatensor(0.), metatensor(0.0085), metatensor(0.), metatensor(0.), metatensor(0.), metatensor(0.), metatensor(0.), metatensor(0.), metatensor(0.), metatensor(0.), metatensor(0.0045), metatensor(0.), metatensor(0.), metatensor(0.), metatensor(0.0147), metatensor(0.), metatensor(0.0034), metatensor(0.), metatensor(0.0081), metatensor(0.0019), metatensor(0.0099), metatensor(0.), metatensor(0.), metatensor(0.), metatensor(0.), metatensor(0.), metatensor(0.), metatensor(0.), metatensor(0.)], [metatensor(0.0049), metatensor(0.0005), metatensor(0.0005), metatensor(0.0005), metatensor(0.0050), metatensor(0.0012), metatensor(0.), metatensor(0.0037), metatensor(0.0015), metatensor(0.), metatensor(0.0012), metatensor(0.0007), metatensor(0.), metatensor(0.0005), metatensor(0.0004), metatensor(0.), metatensor(0.0017), metatensor(0.0091), metatensor(0.), metatensor(0.), metatensor(0.), metatensor(0.), metatensor(0.), metatensor(0.), metatensor(0.0014), metatensor(0.), metatensor(0.), metatensor(0.0004), metatensor(0.), metatensor(0.), metatensor(0.), metatensor(0.), metatensor(0.), metatensor(0.0011), metatensor(0.), metatensor(0.0006), metatensor(0.0005), metatensor(0.), metatensor(0.), metatensor(0.0011), metatensor(0.), metatensor(0.0017), metatensor(0.), metatensor(0.0005), metatensor(0.0012), metatensor(0.0055), metatensor(0.), metatensor(0.), metatensor(0.), metatensor(0.), metatensor(0.0014), metatensor(0.), metatensor(0.), metatensor(0.), metatensor(0.), metatensor(0.), metatensor(0.), metatensor(0.0007), metatensor(0.0006), metatensor(0.), metatensor(0.), metatensor(0.), metatensor(0.0010), metatensor(0.0004), metatensor(0.0005), metatensor(0.), metatensor(0.0004), metatensor(0.), metatensor(0.), metatensor(0.), metatensor(0.0004), metatensor(0.0005), metatensor(0.0015), metatensor(0.), metatensor(0.), metatensor(0.), metatensor(0.0015), metatensor(0.0004), metatensor(0.0009), metatensor(0.), metatensor(0.0004), metatensor(0.), metatensor(0.), metatensor(0.0009), metatensor(0.0005), metatensor(0.0025), metatensor(0.), metatensor(0.), metatensor(0.0012), metatensor(0.), metatensor(0.0006), metatensor(0.), metatensor(0.), metatensor(0.), metatensor(0.), metatensor(0.), metatensor(0.), metatensor(0.), metatensor(0.), metatensor(0.), metatensor(0.), metatensor(0.0037), metatensor(0.0008), metatensor(0.), metatensor(0.), metatensor(0.), metatensor(0.), metatensor(0.), metatensor(0.), metatensor(0.), metatensor(0.0010), metatensor(0.), metatensor(0.), metatensor(0.), metatensor(0.0008), metatensor(0.), metatensor(0.0006), metatensor(0.0014), metatensor(0.0071), metatensor(0.0029), metatensor(0.0087), metatensor(0.0044), metatensor(0.), metatensor(0.0005), metatensor(0.), metatensor(0.), metatensor(0.0010), metatensor(0.0023), metatensor(0.0015), metatensor(0.), metatensor(0.), metatensor(0.), metatensor(0.), metatensor(0.), metatensor(0.), metatensor(0.0014), metatensor(0.0013), metatensor(0.0005), metatensor(0.), metatensor(0.0007), metatensor(0.0029), metatensor(0.), metatensor(0.), metatensor(0.), metatensor(0.0008), metatensor(0.), metatensor(0.0029), metatensor(0.0006), metatensor(0.), metatensor(0.), metatensor(0.), metatensor(0.), metatensor(0.0015), metatensor(0.), metatensor(0.0007), metatensor(0.), metatensor(0.0016), metatensor(0.0049), metatensor(0.0005), metatensor(0.0014), metatensor(0.0012), metatensor(0.0018), metatensor(0.), metatensor(0.), metatensor(0.0009), metatensor(0.0011), metatensor(0.0025), metatensor(0.), metatensor(0.0006), metatensor(0.0019), metatensor(0.), metatensor(0.0004), metatensor(0.), metatensor(0.0009), metatensor(0.), metatensor(0.), metatensor(0.0009), metatensor(0.), metatensor(0.0007), metatensor(0.), metatensor(0.0013), metatensor(0.), metatensor(0.), metatensor(0.), metatensor(0.0004), metatensor(0.), metatensor(0.), metatensor(0.0005), metatensor(0.), metatensor(0.), metatensor(0.0082), metatensor(0.), metatensor(0.), metatensor(0.0057), metatensor(0.), metatensor(0.), metatensor(0.), metatensor(0.0037), metatensor(0.), metatensor(0.), metatensor(0.), metatensor(0.), metatensor(0.0005), metatensor(0.0040), metatensor(0.), metatensor(0.), metatensor(0.), metatensor(0.), metatensor(0.), metatensor(0.), metatensor(0.), metatensor(0.), metatensor(0.), metatensor(0.0029), metatensor(0.), metatensor(0.), metatensor(0.), metatensor(0.), metatensor(0.), metatensor(0.), metatensor(0.), metatensor(0.), metatensor(0.), metatensor(0.0005), metatensor(0.0005), metatensor(0.0006), metatensor(0.0012), metatensor(0.), metatensor(0.), metatensor(0.), metatensor(0.0022), metatensor(0.0026), metatensor(0.), metatensor(0.), metatensor(0.), metatensor(0.0012), metatensor(0.0006), metatensor(0.), metatensor(0.0008), metatensor(0.), metatensor(0.0005), metatensor(0.), metatensor(0.), metatensor(0.), metatensor(0.0015), metatensor(0.0010), metatensor(0.), metatensor(0.0005), metatensor(0.0006), metatensor(0.), metatensor(0.0020), metatensor(0.), metatensor(0.0032), metatensor(0.0004), metatensor(0.), metatensor(0.), metatensor(0.), metatensor(0.0011), metatensor(0.), metatensor(0.), metatensor(0.0004), metatensor(0.), metatensor(0.), metatensor(0.0004), metatensor(0.0014), metatensor(0.0054), metatensor(0.0021), metatensor(0.), metatensor(0.), metatensor(0.0013), metatensor(0.0013), metatensor(0.0010), metatensor(0.), metatensor(0.0004), metatensor(0.), metatensor(0.0013), metatensor(0.0028), metatensor(0.0042), metatensor(0.0055), metatensor(0.0007), metatensor(0.0008), metatensor(0.), metatensor(0.0032), metatensor(0.0020), metatensor(0.), metatensor(0.0014), metatensor(0.), metatensor(0.), metatensor(0.), metatensor(0.), metatensor(0.0023), metatensor(0.0005), metatensor(0.0013), metatensor(0.), metatensor(0.), metatensor(0.0027), metatensor(0.), metatensor(0.0013), metatensor(0.0017), metatensor(0.), metatensor(0.0004), metatensor(0.), metatensor(0.), metatensor(0.), metatensor(0.0008), metatensor(0.0003), metatensor(0.0006), metatensor(0.0008), metatensor(0.0007), metatensor(0.0008), metatensor(0.0004), metatensor(0.0010), metatensor(0.), metatensor(0.0038), metatensor(0.), metatensor(0.0004), metatensor(0.0011), metatensor(0.0006), metatensor(0.), metatensor(0.), metatensor(0.0056), metatensor(0.), metatensor(0.), metatensor(0.0012), metatensor(0.0013), metatensor(0.0008), metatensor(0.), metatensor(0.), metatensor(0.0004), metatensor(0.0014), metatensor(0.0038), metatensor(0.), metatensor(0.), metatensor(0.), metatensor(0.0051), metatensor(0.0020), metatensor(0.), metatensor(0.), metatensor(0.), metatensor(0.), metatensor(0.0045), metatensor(0.0006), metatensor(0.), metatensor(0.0005), metatensor(0.0014), metatensor(0.), metatensor(0.), metatensor(0.), metatensor(0.), metatensor(0.), metatensor(0.), metatensor(0.0006), metatensor(0.0005), metatensor(0.), metatensor(0.0008), metatensor(0.), metatensor(0.0020), metatensor(0.), metatensor(0.), metatensor(0.0004), metatensor(0.0005), metatensor(0.0004), metatensor(0.), metatensor(0.0044), metatensor(0.), metatensor(0.0035), metatensor(0.0006), metatensor(0.0011), metatensor(0.), metatensor(0.), metatensor(0.0005), metatensor(0.), metatensor(0.0008), metatensor(0.), metatensor(0.), metatensor(0.0012), metatensor(0.), metatensor(0.0059), metatensor(0.), metatensor(0.), metatensor(0.), metatensor(0.0038), metatensor(0.), metatensor(0.0047), metatensor(0.0005), metatensor(0.0004), metatensor(0.), metatensor(0.), metatensor(0.0008), metatensor(0.), metatensor(0.0006), metatensor(0.0055), metatensor(0.), metatensor(0.), metatensor(0.), metatensor(0.0012), metatensor(0.0046), metatensor(0.), metatensor(0.), metatensor(0.0058)]]\n"
     ]
    },
    {
     "data": {
      "text/plain": "<Figure size 640x480 with 1 Axes>",
      "image/png": "[encoded data removed]"
     },
     "metadata": {},
     "output_type": "display_data"
    }
   ],
   "source": [
    "patches = []\n",
    "labels = []\n",
    "width = 0.1\n",
    "shift_factor = width*1.1\n",
    "\n",
    "fig = plt.figure()\n",
    "ax = fig.add_subplot()\n",
    "\n",
    "for i in range(len(experiments_of_interest)):\n",
    "    with open(exp_paths[i] + \"/dice.pickle\", \"rb\") as handle:\n",
    "        data = pickle.load(handle)\n",
    "    violin = ax.violinplot(data[1],\n",
    "                            positions = [0 + shift_factor*i],\n",
    "                            widths=width,\n",
    "                            showmeans=True,\n",
    "                            side=\"high\")\n",
    "\n",
    "    for pc in violin['bodies']:\n",
    "        pc.set_facecolor(experiments_colors[i][0])\n",
    "        pc.set_edgecolor(experiments_colors[i][0])\n",
    "    for partname in ('cbars','cmins','cmaxes'):\n",
    "        vp = violin[partname]\n",
    "        vp.set_edgecolor(experiments_colors[i][0])\n",
    "    patches.append(mpatches.Patch(color=experiments_colors[i][0]))\n",
    "    labels.append(experiments_labels[i] + \", disc\")\n",
    "\n",
    "    violin = ax.violinplot(data[0],\n",
    "                            positions = [1 + i*shift_factor],\n",
    "                            widths=width,\n",
    "                            showmeans=True,\n",
    "                            side=\"high\")\n",
    "    for pc in violin['bodies']:\n",
    "        pc.set_facecolor(experiments_colors[i][1])\n",
    "        pc.set_edgecolor(experiments_colors[i][1])\n",
    "    for partname in ('cbars','cmins','cmaxes'):\n",
    "        vp = violin[partname]\n",
    "        vp.set_edgecolor(experiments_colors[i][1])\n",
    "    patches.append(mpatches.Patch(color=experiments_colors[i][1]))\n",
    "    labels.append(experiments_labels[i] + \", cup\")\n",
    "ax.set_xticks([0, 1], [\"disc\", \"cup\"])\n",
    "plt.ylabel(\"dice score\")\n",
    "plt.legend(patches, labels, loc=8) # loc 4 ... lower center\n",
    "plt.show()"
   ],
   "metadata": {
    "collapsed": false,
    "ExecuteTime": {
     "end_time": "2024-07-27T10:22:14.047405Z",
     "start_time": "2024-07-27T10:22:13.561964Z"
    }
   }
  }
 ],
 "metadata": {
  "kernelspec": {
   "display_name": "Python 3",
   "language": "python",
   "name": "python3"
  },
  "language_info": {
   "codemirror_mode": {
    "name": "ipython",
    "version": 2
   },
   "file_extension": ".py",
   "mimetype": "text/x-python",
   "name": "python",
   "nbconvert_exporter": "python",
   "pygments_lexer": "ipython2",
   "version": "2.7.6"
  }
 },
 "nbformat": 4,
 "nbformat_minor": 0
}
