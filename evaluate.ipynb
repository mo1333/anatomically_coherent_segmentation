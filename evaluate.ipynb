{
 "cells": [
  {
   "cell_type": "code",
   "execution_count": 1,
   "metadata": {
    "collapsed": true
   },
   "outputs": [
    {
     "name": "stderr",
     "output_type": "stream",
     "text": [
      "C:\\Users\\Michael\\AppData\\Local\\Programs\\Python\\Python310\\lib\\site-packages\\scipy\\__init__.py:177: UserWarning: A NumPy version >=1.18.5 and <1.26.0 is required for this version of SciPy (detected version 1.26.3\n",
      "  warnings.warn(f\"A NumPy version >={np_minversion} and <{np_maxversion}\"\n"
     ]
    }
   ],
   "source": [
    "import json\n",
    "import os\n",
    "\n",
    "import matplotlib.pyplot as plt\n",
    "import numpy as np\n",
    "from monai.data import ImageDataset\n",
    "from monai.transforms import Resize, EnsureChannelFirst, Compose, ScaleIntensity\n",
    "from monai.metrics import DiceMetric\n",
    "from torch.utils.data import DataLoader\n",
    "\n",
    "from evaluate_util import get_model\n",
    "%load_ext autoreload\n",
    "%autoreload 2"
   ]
  },
  {
   "cell_type": "code",
   "execution_count": 2,
   "outputs": [
    {
     "name": "stdout",
     "output_type": "stream",
     "text": [
      "config of experiment 2024_03_11__07_39_54\n",
      "-----------------------------------------\n",
      "\tspatial_dims: 2\n",
      "\tin_channels: 3\n",
      "\tout_channels: 2\n",
      "\tchannels: [32, 128, 512]\n",
      "\tstrides: [2, 2]\n",
      "\tnum_res_units: 2\n",
      "image_size: [512, 512]\n",
      "batch_size: 8\n",
      "epochs: 200\n"
     ]
    }
   ],
   "source": [
    "exp_name = \"2024_03_11__07_39_54\"\n",
    "exp_path = \"experiments/\" + exp_name + \"/\"\n",
    "with open(exp_path + \"config.json\", 'r') as file:\n",
    "    config = json.load(file)\n",
    "\n",
    "model_config = config[\"model_config\"]\n",
    "\n",
    "transformer = Compose([EnsureChannelFirst(),\n",
    "                       ScaleIntensity(),\n",
    "                       Resize(config[\"image_size\"])])\n",
    "\n",
    "val_image_path = \"data/REFUGE2/Validation/Images/\"\n",
    "val_dm_path = \"data/REFUGE2/Validation/Disc_Masks/\"\n",
    "\n",
    "number_of_images = 400 # config[\"batch_size\"]\n",
    "\n",
    "val_data = ImageDataset(image_files=[val_image_path + file for file in os.listdir(val_image_path)[:number_of_images]],\n",
    "                        transform=transformer,\n",
    "                        seg_files=[val_dm_path + file for file in os.listdir(val_dm_path)[:number_of_images]],\n",
    "                        seg_transform=transformer)\n",
    "\n",
    "train_dataloader = DataLoader(val_data, batch_size=config[\"batch_size\"], num_workers = 4, shuffle=True)\n",
    "\n",
    "print(\"config of experiment \" + exp_name + \"\\n-----------------------------------------\")\n",
    "for key in config.keys():\n",
    "    if isinstance(config[key], dict):\n",
    "        for sub_key in config[key].keys():\n",
    "            print(\"\\t\" + sub_key + \": \" + str(config[key][sub_key]))\n",
    "    else:\n",
    "        print(key + \": \" + str(config[key]))"
   ],
   "metadata": {
    "collapsed": false
   }
  },
  {
   "cell_type": "code",
   "execution_count": 3,
   "outputs": [],
   "source": [
    "def plot_model_output(sample):\n",
    "    fig, ((img1, img2), (img3, img4), (img5, img6)) = plt.subplots(3, 2, layout=\"constrained\")\n",
    "\n",
    "    img1.set_title(\"original image\")\n",
    "    img1.imshow(sample[0][0].permute(1, 2, 0) / 255)\n",
    "    img1.set_axis_off()\n",
    "\n",
    "    disc_image = np.stack([np.array(sample[1][0]),\n",
    "                           np.zeros(shape=(sample[1].shape[1], sample[1].shape[2])),\n",
    "                           np.array(sample[1][1])])\n",
    "\n",
    "    img2.set_title(\"model output\")\n",
    "    img2.imshow(np.transpose(disc_image, (1, 2, 0)))\n",
    "    img2.set_axis_off()\n",
    "\n",
    "    img3.set_title(\"model output, channel 0\")\n",
    "    img3.imshow(sample[1][0]/255, cmap=\"gray\")\n",
    "    img3.set_axis_off()\n",
    "\n",
    "    img4.set_title(\"model output, channel 1\")\n",
    "    img4.imshow(sample[1][1]/255, cmap=\"gray\")\n",
    "    img4.set_axis_off()\n",
    "\n",
    "    img5.set_title(\"desired output, channel 0\")\n",
    "    img5.imshow(sample[2][0, 0]/255, cmap=\"gray\")\n",
    "    img5.set_axis_off()\n",
    "\n",
    "    img6.set_title(\"desired output, channel 1\")\n",
    "    img6.imshow(sample[2][0, 1]/255, cmap=\"gray\")\n",
    "    img6.set_axis_off()\n",
    "    plt.show()"
   ],
   "metadata": {
    "collapsed": false
   }
  },
  {
   "cell_type": "code",
   "execution_count": 5,
   "outputs": [],
   "source": [
    "model, _ = get_model(exp_path, model_config)\n",
    "metric = DiceMetric()"
   ],
   "metadata": {
    "collapsed": false
   }
  },
  {
   "cell_type": "code",
   "execution_count": null,
   "outputs": [
    {
     "name": "stderr",
     "output_type": "stream",
     "text": [
      "Exception ignored in: <function _MultiProcessingDataLoaderIter.__del__ at 0x000002260D04A8C0>\n",
      "Traceback (most recent call last):\n",
      "  File \"D:\\Uni\\Master\\Thesis\\programming\\venv\\lib\\site-packages\\torch\\utils\\data\\dataloader.py\", line 1478, in __del__\n",
      "  File \"D:\\Uni\\Master\\Thesis\\programming\\venv\\lib\\site-packages\\torch\\utils\\data\\dataloader.py\", line 1418, in _shutdown_workers\n",
      "    if hasattr(self, '_pin_memory_thread'):\n",
      "KeyboardInterrupt: \n"
     ]
    }
   ],
   "source": [
    "sum_score = [0, 0]\n",
    "for j, batch in enumerate(train_dataloader):\n",
    "    new_images = model(batch[0])\n",
    "    if j == 0:\n",
    "        plot_model_output((batch[0], new_images[0].detach(), batch[1]))\n",
    "    np.sum(np.array(metric(new_images, batch[1])), axis=0)\n",
    "    sum_score = [sum_score[i] + np.sum(np.array(metric(new_images, batch[1])), axis=0)[i] for i in range(len(sum_score))]\n",
    "average_score = [score/number_of_images for score in sum_score]\n",
    "print(\"average dice score channel 0: %f, channel 1: %f\" % (average_score[0], average_score[1]))"
   ],
   "metadata": {
    "collapsed": false
   }
  }
 ],
 "metadata": {
  "kernelspec": {
   "display_name": "Python 3",
   "language": "python",
   "name": "python3"
  },
  "language_info": {
   "codemirror_mode": {
    "name": "ipython",
    "version": 2
   },
   "file_extension": ".py",
   "mimetype": "text/x-python",
   "name": "python",
   "nbconvert_exporter": "python",
   "pygments_lexer": "ipython2",
   "version": "2.7.6"
  }
 },
 "nbformat": 4,
 "nbformat_minor": 0
}
