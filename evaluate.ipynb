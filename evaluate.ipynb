{
 "cells": [
  {
   "cell_type": "code",
   "execution_count": 10,
   "metadata": {
    "collapsed": true
   },
   "outputs": [],
   "source": [
    "import os\n",
    "import json\n",
    "import numpy as np\n",
    "\n",
    "import matplotlib.pyplot as plt\n",
    "from monai.data import ImageDataset\n",
    "from monai.transforms import Resize, EnsureChannelFirst, Compose\n",
    "from torch.utils.data import DataLoader\n",
    "\n",
    "from evaluate_util import get_model"
   ]
  },
  {
   "cell_type": "code",
   "execution_count": 6,
   "outputs": [],
   "source": [
    "exp_path = \"experiments/\" + \"2024_03_08__10_17_28\" + \"/\"\n",
    "with open(exp_path + \"config.json\", 'r') as file:\n",
    "    config = json.load(file)\n",
    "\n",
    "model_config = config[\"model_config\"]\n",
    "\n",
    "transformer = Compose([EnsureChannelFirst(),\n",
    "                       Resize(config[\"image_size\"])])\n",
    "\n",
    "val_image_path = \"data_test/REFUGE2/Validation/Images/\"\n",
    "val_dm_path = \"data_test/REFUGE2/Validation/Disc_Masks/\"\n",
    "\n",
    "val_data = ImageDataset(image_files=[val_image_path + file for file in os.listdir(val_image_path)],\n",
    "                          transform=transformer,\n",
    "                          seg_files=[val_dm_path + file for file in os.listdir(val_dm_path)],\n",
    "                          seg_transform=transformer)\n",
    "\n",
    "train_dataloader = DataLoader(val_data, batch_size=config[\"batch_size\"], shuffle=True)"
   ],
   "metadata": {
    "collapsed": false
   }
  },
  {
   "cell_type": "code",
   "execution_count": 37,
   "outputs": [],
   "source": [
    "def plot_sample(sample):\n",
    "    fig, (img1, img2) = plt.subplots(1, 2, layout=\"constrained\")\n",
    "\n",
    "    img1.imshow(sample[0].permute(1, 2, 0) / 255)\n",
    "    img1.set_axis_off()\n",
    "\n",
    "    disc_image = np.stack([np.array(sample[1][0, :, :]),\n",
    "                           np.zeros(shape=(sample[0].shape[1], sample[0].shape[2])),\n",
    "                           np.array(sample[1][1, :, :])])\n",
    "\n",
    "    img2.imshow(np.transpose(disc_image, (1, 2, 0)))\n",
    "    img2.set_axis_off()\n",
    "    plt.show()"
   ],
   "metadata": {
    "collapsed": false
   }
  },
  {
   "cell_type": "code",
   "execution_count": 8,
   "outputs": [],
   "source": [
    "model, _ = get_model(exp_path, model_config)"
   ],
   "metadata": {
    "collapsed": false
   }
  },
  {
   "cell_type": "code",
   "execution_count": 38,
   "outputs": [
    {
     "name": "stderr",
     "output_type": "stream",
     "text": [
      "Clipping input data to the valid range for imshow with RGB data ([0..1] for floats or [0..255] for integers).\n"
     ]
    },
    {
     "data": {
      "text/plain": "<Figure size 640x480 with 2 Axes>",
      "image/png": "[encoded data removed]"
     },
     "metadata": {},
     "output_type": "display_data"
    }
   ],
   "source": [
    "for batch in train_dataloader:\n",
    "    new_images = model(batch[0])\n",
    "    plot_sample((batch[0][0], new_images[0].detach()))\n",
    "    break"
   ],
   "metadata": {
    "collapsed": false
   }
  }
 ],
 "metadata": {
  "kernelspec": {
   "display_name": "Python 3",
   "language": "python",
   "name": "python3"
  },
  "language_info": {
   "codemirror_mode": {
    "name": "ipython",
    "version": 2
   },
   "file_extension": ".py",
   "mimetype": "text/x-python",
   "name": "python",
   "nbconvert_exporter": "python",
   "pygments_lexer": "ipython2",
   "version": "2.7.6"
  }
 },
 "nbformat": 4,
 "nbformat_minor": 0
}
