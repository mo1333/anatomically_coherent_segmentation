{
 "cells": [
  {
   "cell_type": "code",
   "execution_count": 31,
   "id": "initial_id",
   "metadata": {
    "collapsed": true,
    "ExecuteTime": {
     "end_time": "2024-08-04T07:44:18.660914Z",
     "start_time": "2024-08-04T07:44:18.650905Z"
    }
   },
   "outputs": [],
   "source": [
    "import glob\n",
    "import os\n",
    "import numpy as np\n",
    "from PIL import Image\n",
    "from tqdm.auto import tqdm\n",
    "\n",
    "from monai.transforms import Resize, EnsureChannelFirst, LoadImage, Compose, ScaleIntensity, CenterSpatialCrop\n",
    "from monai.data import ArrayDataset\n",
    "from torch.utils.data import DataLoader\n"
   ]
  },
  {
   "cell_type": "code",
   "outputs": [],
   "source": [
    "image_size = [512, 512]\n",
    "\n",
    "train_image_path_remidio = \"D:/Users/Michael/Documents/Uni/_Master/_Thesis/project/data/Chaksu/Train/1.0_Original_Fundus_Images/Remidio/\"\n",
    "train_segm_path_remidio = \"D:/Users/Michael/Documents/Uni/_Master/_Thesis/project/data/Chaksu/Train/4.0_OD_CO_Fusion_Images/Remidio/STAPLE/\"\n",
    "\n",
    "transformer_remidio = Compose([LoadImage(image_only=True),\n",
    "                               EnsureChannelFirst(),\n",
    "                               ScaleIntensity(),\n",
    "                               CenterSpatialCrop(roi_size=[2448, 2448]),\n",
    "                               Resize(image_size)])\n",
    "\n",
    "transformer_forus = Compose([LoadImage(image_only=True),\n",
    "                             EnsureChannelFirst(),\n",
    "                             ScaleIntensity(),\n",
    "                             CenterSpatialCrop(roi_size=[1536, 1536]),\n",
    "                             Resize(image_size)])\n",
    "\n",
    "transformer_bosch = Compose([LoadImage(image_only=True),\n",
    "                             EnsureChannelFirst(),\n",
    "                             ScaleIntensity(),\n",
    "                             CenterSpatialCrop(roi_size=[1440, 1440]),\n",
    "                             Resize(image_size)])\n",
    "\n",
    "data = ArrayDataset(img=sorted([train_image_path_remidio + file for file in os.listdir(train_image_path_remidio)]),\n",
    "                    img_transform=transformer_remidio,\n",
    "                    seg=sorted([train_segm_path_remidio + file for file in os.listdir(train_segm_path_remidio)]),\n",
    "                    seg_transform=transformer_remidio)\n",
    "\n",
    "dataloader = DataLoader(data,\n",
    "                        batch_size=1,\n",
    "                        shuffle=False,\n",
    "                        num_workers=2)\n"
   ],
   "metadata": {
    "collapsed": false,
    "ExecuteTime": {
     "end_time": "2024-08-04T07:44:18.692942Z",
     "start_time": "2024-08-04T07:44:18.662915Z"
    }
   },
   "id": "308390779fc7aea9",
   "execution_count": 32
  },
  {
   "cell_type": "code",
   "outputs": [
    {
     "data": {
      "text/plain": "0it [00:00, ?it/s]",
      "application/vnd.jupyter.widget-view+json": {
       "version_major": 2,
       "version_minor": 0,
       "model_id": "456eb46db6a449878d30362ef79282e8"
      }
     },
     "metadata": {},
     "output_type": "display_data"
    }
   ],
   "source": [
    "new_path = \"C:/Users/michi/Documents/Uni/_Master/_Thesis/project/data_chaksu/CHAKSU/\"\n",
    "new_path_img = new_path + \"Images/\"\n",
    "new_path_segm = new_path + \"Disc_Masks/\"\n",
    "\n",
    "new_index_increment = len(os.listdir(new_path_img))\n",
    "\n",
    "for j, batch in tqdm(enumerate(dataloader)):\n",
    "    temp = np.array(batch[1][0].permute(1, 2, 0) * 25).astype(np.uint8)\n",
    "    new_image = Image.fromarray(np.array(batch[0][0].permute(1, 2, 0) * 255).astype(np.uint8))\n",
    "    new_image.save(new_path_img + str(j + new_index_increment) + \".png\")\n",
    "    new_image = Image.fromarray(np.array(batch[1][0].permute(1, 2, 0) * 255).squeeze().astype(np.uint8))\n",
    "    new_image.save(new_path_segm + str(j + new_index_increment) + \".png\")"
   ],
   "metadata": {
    "collapsed": false,
    "ExecuteTime": {
     "end_time": "2024-08-04T07:51:08.510034Z",
     "start_time": "2024-08-04T07:44:18.693943Z"
    }
   },
   "id": "69502292b7d76a48",
   "execution_count": 33
  }
 ],
 "metadata": {
  "kernelspec": {
   "display_name": "Python 3",
   "language": "python",
   "name": "python3"
  },
  "language_info": {
   "codemirror_mode": {
    "name": "ipython",
    "version": 2
   },
   "file_extension": ".py",
   "mimetype": "text/x-python",
   "name": "python",
   "nbconvert_exporter": "python",
   "pygments_lexer": "ipython2",
   "version": "2.7.6"
  }
 },
 "nbformat": 4,
 "nbformat_minor": 5
}
