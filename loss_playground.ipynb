{
 "cells": [
  {
   "cell_type": "code",
   "execution_count": 7,
   "id": "d16a851955ee910b",
   "metadata": {
    "collapsed": false,
    "ExecuteTime": {
     "end_time": "2024-06-24T10:34:43.216733Z",
     "start_time": "2024-06-24T10:34:42.685257Z"
    }
   },
   "outputs": [
    {
     "name": "stdout",
     "output_type": "stream",
     "text": [
      "The autoreload extension is already loaded. To reload it, use:\n",
      "  %reload_ext autoreload\n"
     ]
    }
   ],
   "source": [
    "import os\n",
    "\n",
    "import matplotlib.pyplot as plt\n",
    "from monai.data import ArrayDataset\n",
    "from monai.transforms import Resize, EnsureChannelFirst, Compose, LoadImage, ScaleIntensity\n",
    "from monai.utils import first\n",
    "from torch.utils.data import DataLoader\n",
    "import torch\n",
    "import numpy as np\n",
    "\n",
    "from loss import get_vertical_diameter\n",
    "from loss import CDRLoss\n",
    "%load_ext autoreload\n",
    "%autoreload 2"
   ]
  },
  {
   "cell_type": "code",
   "outputs": [],
   "source": [
    "\n",
    "transformer = Compose([LoadImage(image_only=True),\n",
    "                                 EnsureChannelFirst(),\n",
    "                                 ScaleIntensity()])\n",
    "\n",
    "train_image_path = \"data/REFUGE2/Train/Images/\"\n",
    "train_dm_path = \"data/REFUGE2/Train/Disc_Masks/\"\n",
    "\n",
    "data = ArrayDataset(img=sorted([train_image_path + file for file in os.listdir(train_image_path)]),\n",
    "                    img_transform=transformer,\n",
    "                    seg=sorted([train_dm_path + file for file in os.listdir(train_dm_path)]),\n",
    "                    seg_transform=transformer)\n",
    "\n",
    "dataloader = DataLoader(data, batch_size=2, shuffle=False)"
   ],
   "metadata": {
    "collapsed": true,
    "ExecuteTime": {
     "end_time": "2024-06-24T10:34:43.391898Z",
     "start_time": "2024-06-24T10:34:43.217733Z"
    }
   },
   "id": "initial_id",
   "execution_count": 8
  },
  {
   "cell_type": "code",
   "outputs": [],
   "source": [
    "img, seg = first(dataloader)"
   ],
   "metadata": {
    "collapsed": false,
    "ExecuteTime": {
     "end_time": "2024-06-24T10:34:43.615093Z",
     "start_time": "2024-06-24T10:34:43.392892Z"
    }
   },
   "id": "40329b28fc444e84",
   "execution_count": 9
  },
  {
   "cell_type": "code",
   "outputs": [
    {
     "data": {
      "text/plain": "tensor([54, 68])"
     },
     "execution_count": 10,
     "metadata": {},
     "output_type": "execute_result"
    }
   ],
   "source": [
    "# plt.imshow(seg[0][1])\n",
    "indices = get_vertical_diameter(seg[:, 1])\n",
    "indices"
   ],
   "metadata": {
    "collapsed": false,
    "ExecuteTime": {
     "end_time": "2024-06-24T10:34:43.807268Z",
     "start_time": "2024-06-24T10:34:43.616094Z"
    }
   },
   "id": "624b655e9da4554f",
   "execution_count": 10
  },
  {
   "cell_type": "code",
   "outputs": [
    {
     "name": "stdout",
     "output_type": "stream",
     "text": [
      "tensor([54, 68]) tensor([87, 85]) tensor([55, 69]) tensor([88, 86])\n"
     ]
    },
    {
     "data": {
      "text/plain": "<Figure size 640x480 with 1 Axes>",
      "image/png": "[encoded data removed]"
     },
     "metadata": {},
     "output_type": "display_data"
    }
   ],
   "source": [
    "loss = CDRLoss(sigmoid=True, softmax=False)\n",
    "value = loss(seg - 0.1, seg)\n",
    "gradient = value[0].permute(1, 2, 0)\n",
    "plt.imshow(value[0].permute(1, 2, 0)[:, :, 1] * 10**5, cmap='gray')\n",
    "A = np.array(value[0].permute(1, 2, 0)[:, :, 1] * 10**5)"
   ],
   "metadata": {
    "collapsed": false,
    "ExecuteTime": {
     "end_time": "2024-06-24T10:42:05.826168Z",
     "start_time": "2024-06-24T10:42:05.509830Z"
    }
   },
   "id": "12439d6b90b6ffc3",
   "execution_count": 32
  }
 ],
 "metadata": {
  "kernelspec": {
   "display_name": "Python 3",
   "language": "python",
   "name": "python3"
  },
  "language_info": {
   "codemirror_mode": {
    "name": "ipython",
    "version": 2
   },
   "file_extension": ".py",
   "mimetype": "text/x-python",
   "name": "python",
   "nbconvert_exporter": "python",
   "pygments_lexer": "ipython2",
   "version": "2.7.6"
  }
 },
 "nbformat": 4,
 "nbformat_minor": 5
}
