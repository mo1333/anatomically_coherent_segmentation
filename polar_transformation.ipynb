{
 "cells": [
  {
   "cell_type": "code",
   "execution_count": 12,
   "id": "initial_id",
   "metadata": {
    "collapsed": true,
    "ExecuteTime": {
     "end_time": "2024-05-03T08:44:15.465363Z",
     "start_time": "2024-05-03T08:44:15.454221Z"
    }
   },
   "outputs": [],
   "source": [
    "import os\n",
    "import numpy as np\n",
    "import pickle\n",
    "from PIL import Image\n",
    "from tqdm.auto import tqdm\n",
    "import matplotlib.pyplot as plt\n",
    "\n",
    "from monai.transforms import EnsureChannelFirst, LoadImage, Compose, ScaleIntensity\n",
    "from monai.data import ArrayDataset\n",
    "from torch.utils.data import DataLoader\n",
    "\n",
    "import polarTransform"
   ]
  },
  {
   "cell_type": "code",
   "outputs": [],
   "source": [
    "transformer = Compose([LoadImage(image_only=True),\n",
    "                       EnsureChannelFirst(),\n",
    "                       ScaleIntensity()])\n",
    "\n",
    "train_image_path = \"data/REFUGE2/Train/Images/\"\n",
    "train_dm_path = \"data/REFUGE2/Train/Disc_Masks/\"\n",
    "test_image_path = \"data/REFUGE2/Test/Images/\"\n",
    "test_dm_path = \"data/REFUGE2/Test/Disc_Masks/\"\n",
    "val_image_path = \"data/REFUGE2/Validation/Images/\"\n",
    "val_dm_path = \"data/REFUGE2/Validation/Disc_Masks/\"\n",
    "\n",
    "train_data = ArrayDataset(img=sorted([train_image_path + file for file in os.listdir(train_image_path)]),\n",
    "                          img_transform=transformer,\n",
    "                          seg=sorted([train_dm_path + file for file in os.listdir(train_dm_path)]),\n",
    "                          seg_transform=transformer)\n",
    "\n",
    "train_dataloader = DataLoader(train_data,\n",
    "                              batch_size=1,\n",
    "                              shuffle=False,\n",
    "                              num_workers=2)\n",
    "\n",
    "val_data = ArrayDataset(img=sorted([val_image_path + file for file in os.listdir(val_image_path)]),\n",
    "                        img_transform=transformer,\n",
    "                        seg=sorted([val_dm_path + file for file in os.listdir(val_dm_path)]),\n",
    "                        seg_transform=transformer)\n",
    "\n",
    "val_dataloader = DataLoader(val_data,\n",
    "                            batch_size=1,\n",
    "                            shuffle=False,\n",
    "                            num_workers=2)\n",
    "\n",
    "test_data = ArrayDataset(img=sorted([test_image_path + file for file in os.listdir(test_image_path)]),\n",
    "                         img_transform=transformer,\n",
    "                         seg=sorted([test_dm_path + file for file in os.listdir(test_dm_path)]),\n",
    "                         seg_transform=transformer)\n",
    "\n",
    "test_dataloader = DataLoader(test_data,\n",
    "                             batch_size=1,\n",
    "                             shuffle=False,\n",
    "                             num_workers=2)"
   ],
   "metadata": {
    "collapsed": false,
    "ExecuteTime": {
     "end_time": "2024-05-03T08:44:15.497195Z",
     "start_time": "2024-05-03T08:44:15.468420Z"
    }
   },
   "id": "4ad58955396fb831",
   "execution_count": 13
  },
  {
   "cell_type": "code",
   "outputs": [
    {
     "data": {
      "text/plain": "0it [00:00, ?it/s]",
      "application/vnd.jupyter.widget-view+json": {
       "version_major": 2,
       "version_minor": 0,
       "model_id": "bc67ae66f1fb40fbb429b4fcec486d8c"
      }
     },
     "metadata": {},
     "output_type": "display_data"
    }
   ],
   "source": [
    "new_path = \"data_test/REFUGE2/Validation/\"\n",
    "old_path = \"data/REFUGE2/Validation/\"\n",
    "names = sorted(os.listdir(old_path + \"Images/\"))\n",
    "\n",
    "if not os.path.exists(new_path + \"Disc_Masks\"):\n",
    "    os.makedirs(new_path + \"Disc_Masks\")\n",
    "    \n",
    "if not os.path.exists(new_path + \"Images\"):\n",
    "    os.makedirs(new_path + \"Images\")\n",
    "\n",
    "settings_dict = {}\n",
    "\n",
    "for j, batch in tqdm(enumerate(val_dataloader)):\n",
    "    image = np.array(255*batch[0][0].permute(1, 2, 0)).astype(np.uint8)\n",
    "    mask = np.array(255*batch[1][0].permute(1, 2, 0)).astype(np.uint8)\n",
    "    cup_points = np.where(mask[:, :, 1] == 255)\n",
    "    center = (round(cup_points[1].mean()), round(cup_points[0].mean()))\n",
    "    transformed_mask, settings = polarTransform.convertToPolarImage(mask, \n",
    "                                                                center=center, \n",
    "                                                                hasColor=True, \n",
    "                                                                radiusSize=mask.shape[0], \n",
    "                                                                angleSize=mask.shape[1])\n",
    "    \n",
    "    transformed_mask = transformed_mask.astype(np.uint8)\n",
    "    new_mask = Image.fromarray(transformed_mask)\n",
    "    new_mask.save(new_path + \"Disc_Masks/\" + names[j])\n",
    "    \n",
    "    transformed_image = settings.convertToPolarImage(image)\n",
    "    new_image = Image.fromarray(transformed_image)\n",
    "    new_image.save(new_path + \"Images/\" + names[j])\n",
    "    \n",
    "    settings_dict[names[j]] = settings\n",
    "    "
   ],
   "metadata": {
    "collapsed": false,
    "ExecuteTime": {
     "end_time": "2024-05-03T08:45:42.705108Z",
     "start_time": "2024-05-03T08:44:15.498194Z"
    }
   },
   "id": "91c573e94773414a",
   "execution_count": 14
  },
  {
   "cell_type": "code",
   "outputs": [],
   "source": [
    "with open(new_path + \"settings.pickle\", \"wb\") as handle:\n",
    "    pickle.dump(settings_dict, handle, protocol=pickle.HIGHEST_PROTOCOL)"
   ],
   "metadata": {
    "collapsed": false,
    "ExecuteTime": {
     "end_time": "2024-05-03T08:45:42.721123Z",
     "start_time": "2024-05-03T08:45:42.706109Z"
    }
   },
   "id": "93296a24fd81dd8f",
   "execution_count": 15
  }
 ],
 "metadata": {
  "kernelspec": {
   "display_name": "Python 3",
   "language": "python",
   "name": "python3"
  },
  "language_info": {
   "codemirror_mode": {
    "name": "ipython",
    "version": 2
   },
   "file_extension": ".py",
   "mimetype": "text/x-python",
   "name": "python",
   "nbconvert_exporter": "python",
   "pygments_lexer": "ipython2",
   "version": "2.7.6"
  }
 },
 "nbformat": 4,
 "nbformat_minor": 5
}
