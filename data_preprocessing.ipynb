{
 "cells": [
  {
   "cell_type": "code",
   "execution_count": 2,
   "id": "initial_id",
   "metadata": {
    "collapsed": true,
    "ExecuteTime": {
     "end_time": "2024-03-27T08:45:43.745770Z",
     "start_time": "2024-03-27T08:45:39.095537Z"
    }
   },
   "outputs": [],
   "source": [
    "import glob\n",
    "import os\n",
    "import numpy as np\n",
    "from PIL import Image\n",
    "from tqdm.auto import tqdm\n",
    "\n",
    "from monai.transforms import Resize, EnsureChannelFirst, LoadImage, Compose, ScaleIntensity\n",
    "from monai.data import ArrayDataset\n",
    "from torch.utils.data import DataLoader\n"
   ]
  },
  {
   "cell_type": "code",
   "outputs": [],
   "source": [
    "image_size = [512, 512]\n",
    "\n",
    "transformer = Compose([LoadImage(image_only=True),\n",
    "                       EnsureChannelFirst(),\n",
    "                       ScaleIntensity(),\n",
    "                       Resize(image_size)])\n",
    "\n",
    "train_image_path = \"data/REFUGE2/Train/Images/\"\n",
    "train_dm_path = \"data/REFUGE2/Train/Disc_Masks/\"\n",
    "test_image_path = \"data/REFUGE2/Test/Images/\"\n",
    "test_dm_path = \"data/REFUGE2/Test/Disc_Masks/\"\n",
    "val_image_path = \"data/REFUGE2/Validation/Images/\"\n",
    "val_dm_path = \"data/REFUGE2/Validation/Disc_Masks/\"\n",
    "\n",
    "train_data = ArrayDataset(img=sorted([train_image_path + file for file in os.listdir(train_image_path)]),\n",
    "                          img_transform=transformer,\n",
    "                          seg=sorted([train_dm_path + file for file in os.listdir(train_dm_path)]),\n",
    "                          seg_transform=transformer)\n",
    "\n",
    "train_dataloader = DataLoader(train_data,\n",
    "                              batch_size=1,\n",
    "                              shuffle=False,\n",
    "                              num_workers=2)\n",
    "\n",
    "val_data = ArrayDataset(img=sorted([val_image_path + file for file in os.listdir(val_image_path)]),\n",
    "                        img_transform=transformer,\n",
    "                        seg=sorted([val_dm_path + file for file in os.listdir(val_dm_path)]),\n",
    "                        seg_transform=transformer)\n",
    "\n",
    "val_dataloader = DataLoader(val_data,\n",
    "                            batch_size=1,\n",
    "                            shuffle=False,\n",
    "                            num_workers=2)\n",
    "\n",
    "test_data = ArrayDataset(img=sorted([test_image_path + file for file in os.listdir(test_image_path)]),\n",
    "                         img_transform=transformer,\n",
    "                         seg=sorted([test_dm_path + file for file in os.listdir(test_dm_path)]),\n",
    "                         seg_transform=transformer)\n",
    "\n",
    "test_dataloader = DataLoader(test_data,\n",
    "                             batch_size=1,\n",
    "                             shuffle=False,\n",
    "                             num_workers=2)"
   ],
   "metadata": {
    "collapsed": false,
    "ExecuteTime": {
     "end_time": "2024-03-27T08:45:43.761784Z",
     "start_time": "2024-03-27T08:45:43.746764Z"
    }
   },
   "id": "45cb56892018a123",
   "execution_count": 3
  },
  {
   "cell_type": "code",
   "outputs": [
    {
     "data": {
      "text/plain": "0it [00:00, ?it/s]",
      "application/vnd.jupyter.widget-view+json": {
       "version_major": 2,
       "version_minor": 0,
       "model_id": "5b8200f5bf29454d96974444906699bd"
      }
     },
     "metadata": {},
     "output_type": "display_data"
    }
   ],
   "source": [
    "new_path = \"data_test/REFUGE2/Train/\"\n",
    "\n",
    "if not os.path.exists(new_path + \"Disc_Masks\"):\n",
    "    os.makedirs(new_path + \"Disc_Masks\")\n",
    "    \n",
    "if not os.path.exists(new_path + \"Images\"):\n",
    "    os.makedirs(new_path + \"Images\")\n",
    "\n",
    "for j, batch in tqdm(enumerate(train_dataloader)):\n",
    "    new_image = Image.fromarray(np.array(batch[0][0].permute(1, 2, 0) * 255).astype(np.uint8))\n",
    "    new_image.save(new_path + \"Images/\" + str(j) + \".png\")\n",
    "    new_image = Image.fromarray(np.array(batch[1][0].permute(1, 2, 0) * 255).astype(np.uint8))\n",
    "    new_image.save(new_path + \"Disc_Masks/\" + str(j) + \".png\")"
   ],
   "metadata": {
    "collapsed": false,
    "ExecuteTime": {
     "end_time": "2024-03-27T09:11:03.895880Z",
     "start_time": "2024-03-27T09:03:42.592927Z"
    }
   },
   "id": "f959301bfc5e1be8",
   "execution_count": 9
  }
 ],
 "metadata": {
  "kernelspec": {
   "display_name": "Python 3",
   "language": "python",
   "name": "python3"
  },
  "language_info": {
   "codemirror_mode": {
    "name": "ipython",
    "version": 2
   },
   "file_extension": ".py",
   "mimetype": "text/x-python",
   "name": "python",
   "nbconvert_exporter": "python",
   "pygments_lexer": "ipython2",
   "version": "2.7.6"
  }
 },
 "nbformat": 4,
 "nbformat_minor": 5
}
