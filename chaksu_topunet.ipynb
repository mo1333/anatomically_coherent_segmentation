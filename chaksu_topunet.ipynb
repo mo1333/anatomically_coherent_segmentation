{
 "cells": [
  {
   "cell_type": "code",
   "execution_count": 1,
   "id": "initial_id",
   "metadata": {
    "collapsed": true,
    "ExecuteTime": {
     "end_time": "2024-08-04T08:44:05.336427Z",
     "start_time": "2024-08-04T08:43:57.130190Z"
    }
   },
   "outputs": [
    {
     "name": "stderr",
     "output_type": "stream",
     "text": [
      "C:\\Users\\michi\\Documents\\Uni\\_Master\\_Thesis\\project\\venv\\lib\\site-packages\\ignite\\handlers\\checkpoint.py:17: DeprecationWarning: `TorchScript` support for functional optimizers is deprecated and will be removed in a future PyTorch release. Consider using the `torch.compile` optimizer instead.\n",
      "  from torch.distributed.optim import ZeroRedundancyOptimizer\n"
     ]
    }
   ],
   "source": [
    "import glob\n",
    "import os\n",
    "import numpy as np\n",
    "from PIL import Image\n",
    "from tqdm.auto import tqdm\n",
    "\n",
    "from monai.transforms import Resize, EnsureChannelFirst, LoadImage, Compose, ScaleIntensity\n",
    "from monai.data import ArrayDataset\n",
    "from torch.utils.data import DataLoader\n",
    "import matplotlib.pyplot as plt\n"
   ]
  },
  {
   "cell_type": "code",
   "outputs": [],
   "source": [
    "transformer = Compose([LoadImage(image_only=True),\n",
    "                       EnsureChannelFirst(),\n",
    "                       ScaleIntensity()])\n",
    "\n",
    "image_path = \"data_chaksu_polar/CHAKSU/Images/\"\n",
    "dm_path = \"data_chaksu_polar/CHAKSU/Disc_Masks/\"\n",
    "\n",
    "data = ArrayDataset(img=sorted([image_path + file for file in os.listdir(image_path)]),\n",
    "                          img_transform=transformer,\n",
    "                          seg=sorted([dm_path + file for file in os.listdir(dm_path)]),\n",
    "                          seg_transform=transformer)\n",
    "\n",
    "dataloader = DataLoader(data,\n",
    "                              batch_size=1,\n",
    "                              shuffle=False,\n",
    "                              num_workers=2)"
   ],
   "metadata": {
    "collapsed": false,
    "ExecuteTime": {
     "end_time": "2024-08-04T08:44:05.368456Z",
     "start_time": "2024-08-04T08:44:05.338429Z"
    }
   },
   "id": "27c0b8c8ffab4fce",
   "execution_count": 2
  },
  {
   "cell_type": "code",
   "outputs": [
    {
     "data": {
      "text/plain": "0it [00:00, ?it/s]",
      "application/vnd.jupyter.widget-view+json": {
       "version_major": 2,
       "version_minor": 0,
       "model_id": "f0fa491f3cbe4ed8bd6fe892cbeb95a6"
      }
     },
     "metadata": {},
     "output_type": "display_data"
    },
    {
     "data": {
      "text/plain": "<Figure size 640x480 with 1 Axes>",
      "image/png": "[encoded data removed]"
     },
     "metadata": {},
     "output_type": "display_data"
    }
   ],
   "source": [
    "new_path = \"data_chaksu_topunet/CHAKSU/\"\n",
    "old_path = \"data_chaksu_polar/CHAKSU/\"\n",
    "names = sorted(os.listdir(old_path + \"Images/\"))\n",
    "\n",
    "if not os.path.exists(new_path + \"q_Masks\"):\n",
    "    os.makedirs(new_path + \"q_Masks\")\n",
    "    \n",
    "if not os.path.exists(new_path + \"s_Masks\"):\n",
    "    os.makedirs(new_path + \"s_Masks\")\n",
    "\n",
    "\n",
    "for j, batch in tqdm(enumerate(dataloader)):\n",
    "    mask = (np.array(255*batch[1][0].permute(2, 1, 0)).astype(np.uint8) > 127).astype(np.uint8)\n",
    "    diff = np.diff(mask, axis=1)\n",
    "    mask[:, :, 2] = mask[:, :, 2] - mask[:, :, 1]\n",
    "    \n",
    "    new_image = Image.fromarray(mask*255)\n",
    "    new_image.save(new_path + \"Disc_Masks/\" + names[j])\n",
    "    diff[:, :, 0] = 0\n",
    "\n",
    "    indices_cup = np.argmax(diff[:, :, 1], axis=1)\n",
    "    indices_disc = np.argmax(diff[:, :, 2], axis=1)\n",
    "    output = np.vstack([indices_cup, indices_disc])\n",
    "    np.save(new_path + \"s_Masks/\" + names[j][:-3] + \"npy\", output)\n",
    "\n",
    "    q_image = np.zeros(shape=mask.shape).astype(np.uint8)\n",
    "    q_image[range(0, mask.shape[0]), list(indices_cup), 1] = 255\n",
    "    q_image[range(0, mask.shape[0]), list(indices_disc), 2] = 255\n",
    "    q_image = Image.fromarray(q_image)\n",
    "    plt.imshow(q_image)\n",
    "    q_image.save(new_path + \"q_Masks/\" + names[j])\n",
    "    "
   ],
   "metadata": {
    "collapsed": false,
    "ExecuteTime": {
     "end_time": "2024-08-04T08:47:02.004079Z",
     "start_time": "2024-08-04T08:45:17.982017Z"
    }
   },
   "id": "e9bd351beae0e3b2",
   "execution_count": 4
  }
 ],
 "metadata": {
  "kernelspec": {
   "display_name": "Python 3",
   "language": "python",
   "name": "python3"
  },
  "language_info": {
   "codemirror_mode": {
    "name": "ipython",
    "version": 2
   },
   "file_extension": ".py",
   "mimetype": "text/x-python",
   "name": "python",
   "nbconvert_exporter": "python",
   "pygments_lexer": "ipython2",
   "version": "2.7.6"
  }
 },
 "nbformat": 4,
 "nbformat_minor": 5
}
